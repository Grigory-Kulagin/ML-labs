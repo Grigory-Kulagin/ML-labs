{
 "cells": [
  {
   "cell_type": "markdown",
   "id": "controversial-package",
   "metadata": {},
   "source": [
    "Task 5:\n",
    "1.\tDownload Alice in Wonderland by Lewis Carroll from Project Gutenberg's website http://www.gutenberg.org/files/11/11-0.txt\n",
    "2.\tPerform any necessary preprocessing on the text, including converting to lower case, removing stop words, numbers / non-alphabetic characters, lemmatization.\n",
    "3.\tFind Top 10 most important (for example, in terms of TF-IDF metric) words from each chapter in the text (not \"Alice\"); how would you name each chapter according to the identified tokens?\n",
    "4.\tFind the Top 10 most used verbs in sentences with Alice. What does Alice do most often?\n",
    "5.\t*(not necessary) Find Top 100 most used verbs in sentences with Alice. Get word vectors using a pre-trained word2vec model and visualize them. Compare the words using embeddings. \n",
    "\n"
   ]
  },
  {
   "cell_type": "code",
   "execution_count": 1,
   "id": "individual-sandwich",
   "metadata": {},
   "outputs": [],
   "source": [
    "import re\n",
    "import pandas as pd\n",
    "import numpy as np\n",
    "from nltk.tokenize import TreebankWordTokenizer\n",
    "\n",
    "pd.set_option(\"display.max_colwidth\", 100)"
   ]
  },
  {
   "cell_type": "code",
   "execution_count": 2,
   "id": "nearby-acrobat",
   "metadata": {},
   "outputs": [
    {
     "name": "stderr",
     "output_type": "stream",
     "text": [
      "[nltk_data] Downloading package stopwords to\n",
      "[nltk_data]     C:\\Users\\User\\AppData\\Roaming\\nltk_data...\n",
      "[nltk_data]   Package stopwords is already up-to-date!\n"
     ]
    }
   ],
   "source": [
    "#removing stopwords\n",
    "import nltk\n",
    "from nltk.corpus import stopwords\n",
    "\n",
    "nltk.download(\"stopwords\") \n",
    "stop_words = stopwords.words(\"english\")"
   ]
  },
  {
   "cell_type": "code",
   "execution_count": 3,
   "id": "fleet-robert",
   "metadata": {},
   "outputs": [
    {
     "name": "stderr",
     "output_type": "stream",
     "text": [
      "[nltk_data] Downloading package wordnet to\n",
      "[nltk_data]     C:\\Users\\User\\AppData\\Roaming\\nltk_data...\n",
      "[nltk_data]   Package wordnet is already up-to-date!\n"
     ]
    }
   ],
   "source": [
    "#lemmatization\n",
    "from nltk.stem import  WordNetLemmatizer\n",
    "\n",
    "nltk.download(\"wordnet\")\n",
    "lemmatizer = WordNetLemmatizer()"
   ]
  },
  {
   "cell_type": "code",
   "execution_count": 4,
   "id": "dress-increase",
   "metadata": {},
   "outputs": [],
   "source": [
    "def clean_and_tokenize_text(text):\n",
    "    text = re.sub(r\"[^\\w\\s]\", \" \", text, re.UNICODE)\n",
    "    text = re.sub(r\"_\", \" \", text, re.UNICODE)\n",
    "    text = text.lower()\n",
    "    tokens = TreebankWordTokenizer().tokenize(text)\n",
    "    tokens = [token for token in tokens if not token in stop_words]\n",
    "    tokens = [lemmatizer.lemmatize(token) for token in tokens]\n",
    "    text = \" \".join(tokens)\n",
    "    \n",
    "    return text\n"
   ]
  },
  {
   "cell_type": "markdown",
   "id": "assigned-badge",
   "metadata": {},
   "source": [
    "Open our text:"
   ]
  },
  {
   "cell_type": "code",
   "execution_count": 5,
   "id": "frank-suffering",
   "metadata": {},
   "outputs": [],
   "source": [
    "with open('Alice.txt', 'r', encoding='utf-8') as f:\n",
    "    text = f.read()"
   ]
  },
  {
   "cell_type": "markdown",
   "id": "german-investor",
   "metadata": {},
   "source": [
    "3.\tFind Top 10 most important (for example, in terms of TF-IDF metric) words from each chapter in the text (not \"Alice\"); how would you name each chapter according to the identified tokens?"
   ]
  },
  {
   "cell_type": "code",
   "execution_count": 6,
   "id": "inside-legislature",
   "metadata": {},
   "outputs": [],
   "source": [
    "#devide our text into chapters for task 3\n",
    "chapters = text.split('CHAPTER')"
   ]
  },
  {
   "cell_type": "code",
   "execution_count": 7,
   "id": "structured-contest",
   "metadata": {},
   "outputs": [
    {
     "name": "stdout",
     "output_type": "stream",
     "text": [
      "[970, 30, 27, 39, 43, 35, 24, 25, 36, 33, 31, 30, 29, 11549, 10951, 9259, 13882, 12009, 13842, 12702, 13668, 12629, 11409, 10385, 30604]\n"
     ]
    }
   ],
   "source": [
    "print([len(x) for x in chapters])"
   ]
  },
  {
   "cell_type": "markdown",
   "id": "characteristic-mortality",
   "metadata": {},
   "source": [
    "We see 12 chapters at the end of our list. Let's remove unnecessary texts "
   ]
  },
  {
   "cell_type": "code",
   "execution_count": 8,
   "id": "continuous-skiing",
   "metadata": {},
   "outputs": [],
   "source": [
    "chapters = [x for x in chapters if len(x) > 2000]"
   ]
  },
  {
   "cell_type": "markdown",
   "id": "analyzed-found",
   "metadata": {},
   "source": [
    "Let's also cut the license agreement from the last shapter"
   ]
  },
  {
   "cell_type": "code",
   "execution_count": 9,
   "id": "controlled-break",
   "metadata": {},
   "outputs": [],
   "source": [
    "chapters[-1] = chapters[-1].split('THE END')[0]"
   ]
  },
  {
   "cell_type": "code",
   "execution_count": 10,
   "id": "catholic-camping",
   "metadata": {},
   "outputs": [
    {
     "name": "stdout",
     "output_type": "stream",
     "text": [
      "[11549, 10951, 9259, 13882, 12009, 13842, 12702, 13668, 12629, 11409, 10385, 11640]\n"
     ]
    }
   ],
   "source": [
    "print([len(x) for x in chapters])"
   ]
  },
  {
   "cell_type": "code",
   "execution_count": 11,
   "id": "systematic-venice",
   "metadata": {},
   "outputs": [
    {
     "name": "stdout",
     "output_type": "stream",
     "text": [
      "Chapter 1:\n",
      " I.\n",
      "Down the Rabbit-Hole\n",
      "\n",
      "\n",
      "Alice was beginning to get very tired of sitting by her sister on the\n",
      "bank, and of having nothing to do: once or twice she had peeped into\n",
      "the book her sister was reading, but it had no pictures or\n",
      "conversations in it, “and what is the use of a book,” thought Alice\n",
      "“withou\n",
      "Chapter 2:\n",
      " II.\n",
      "The Pool of Tears\n",
      "\n",
      "\n",
      "“Curiouser and curiouser!” cried Alice (she was so much surprised, that\n",
      "for the moment she quite forgot how to speak good English); “now I’m\n",
      "opening out like the largest telescope that ever was! Good-bye, feet!”\n",
      "(for when she looked down at her feet, they seemed to be almost\n",
      "Chapter 3:\n",
      " III.\n",
      "A Caucus-Race and a Long Tale\n",
      "\n",
      "\n",
      "They were indeed a queer-looking party that assembled on the bank—the\n",
      "birds with draggled feathers, the animals with their fur clinging close\n",
      "to them, and all dripping wet, cross, and uncomfortable.\n",
      "\n",
      "The first question of course was, how to get dry again: they h\n",
      "Chapter 4:\n",
      " IV.\n",
      "The Rabbit Sends in a Little Bill\n",
      "\n",
      "\n",
      "It was the White Rabbit, trotting slowly back again, and looking\n",
      "anxiously about as it went, as if it had lost something; and she heard\n",
      "it muttering to itself “The Duchess! The Duchess! Oh my dear paws! Oh\n",
      "my fur and whiskers! She’ll get me executed, as sure \n",
      "Chapter 5:\n",
      " V.\n",
      "Advice from a Caterpillar\n",
      "\n",
      "\n",
      "The Caterpillar and Alice looked at each other for some time in\n",
      "silence: at last the Caterpillar took the hookah out of its mouth, and\n",
      "addressed her in a languid, sleepy voice.\n",
      "\n",
      "“Who are _you?_” said the Caterpillar.\n",
      "\n",
      "This was not an encouraging opening for a conversa\n",
      "Chapter 6:\n",
      " VI.\n",
      "Pig and Pepper\n",
      "\n",
      "\n",
      "For a minute or two she stood looking at the house, and wondering what\n",
      "to do next, when suddenly a footman in livery came running out of the\n",
      "wood—(she considered him to be a footman because he was in livery:\n",
      "otherwise, judging by his face only, she would have called him a\n",
      "fish)\n",
      "Chapter 7:\n",
      " VII.\n",
      "A Mad Tea-Party\n",
      "\n",
      "\n",
      "There was a table set out under a tree in front of the house, and the\n",
      "March Hare and the Hatter were having tea at it: a Dormouse was sitting\n",
      "between them, fast asleep, and the other two were using it as a\n",
      "cushion, resting their elbows on it, and talking over its head. “Very\n",
      "\n",
      "Chapter 8:\n",
      " VIII.\n",
      "The Queen’s Croquet-Ground\n",
      "\n",
      "\n",
      "A large rose-tree stood near the entrance of the garden: the roses\n",
      "growing on it were white, but there were three gardeners at it, busily\n",
      "painting them red. Alice thought this a very curious thing, and she\n",
      "went nearer to watch them, and just as she came up to them\n",
      "Chapter 9:\n",
      " IX.\n",
      "The Mock Turtle’s Story\n",
      "\n",
      "\n",
      "“You can’t think how glad I am to see you again, you dear old thing!”\n",
      "said the Duchess, as she tucked her arm affectionately into Alice’s,\n",
      "and they walked off together.\n",
      "\n",
      "Alice was very glad to find her in such a pleasant temper, and thought\n",
      "to herself that perhaps it w\n",
      "Chapter 10:\n",
      " X.\n",
      "The Lobster Quadrille\n",
      "\n",
      "\n",
      "The Mock Turtle sighed deeply, and drew the back of one flapper across\n",
      "his eyes. He looked at Alice, and tried to speak, but for a minute or\n",
      "two sobs choked his voice. “Same as if he had a bone in his throat,”\n",
      "said the Gryphon: and it set to work shaking him and punching \n",
      "Chapter 11:\n",
      " XI.\n",
      "Who Stole the Tarts?\n",
      "\n",
      "\n",
      "The King and Queen of Hearts were seated on their throne when they\n",
      "arrived, with a great crowd assembled about them—all sorts of little\n",
      "birds and beasts, as well as the whole pack of cards: the Knave was\n",
      "standing before them, in chains, with a soldier on each side to guar\n",
      "Chapter 12:\n",
      " XII.\n",
      "Alice’s Evidence\n",
      "\n",
      "\n",
      "“Here!” cried Alice, quite forgetting in the flurry of the moment how\n",
      "large she had grown in the last few minutes, and she jumped up in such\n",
      "a hurry that she tipped over the jury-box with the edge of her skirt,\n",
      "upsetting all the jurymen on to the heads of the crowd below, an\n"
     ]
    }
   ],
   "source": [
    "for num, chapter in enumerate(chapters):\n",
    "    print(f\"Chapter {num+1}:\")\n",
    "    print(chapter[:300])"
   ]
  },
  {
   "cell_type": "code",
   "execution_count": 12,
   "id": "tutorial-jesus",
   "metadata": {},
   "outputs": [
    {
     "data": {
      "text/html": [
       "<div>\n",
       "<style scoped>\n",
       "    .dataframe tbody tr th:only-of-type {\n",
       "        vertical-align: middle;\n",
       "    }\n",
       "\n",
       "    .dataframe tbody tr th {\n",
       "        vertical-align: top;\n",
       "    }\n",
       "\n",
       "    .dataframe thead th {\n",
       "        text-align: right;\n",
       "    }\n",
       "</style>\n",
       "<table border=\"1\" class=\"dataframe\">\n",
       "  <thead>\n",
       "    <tr style=\"text-align: right;\">\n",
       "      <th></th>\n",
       "      <th>orig_text</th>\n",
       "      <th>processed_text</th>\n",
       "    </tr>\n",
       "  </thead>\n",
       "  <tbody>\n",
       "    <tr>\n",
       "      <th>chapter 1</th>\n",
       "      <td>I.\\nDown the Rabbit-Hole\\n\\n\\nAlice was beginning to get very tired of sitting by her sister on...</td>\n",
       "      <td>rabbit hole alice beginning get tired sitting sister bank nothing twice peeped book sister readi...</td>\n",
       "    </tr>\n",
       "    <tr>\n",
       "      <th>chapter 2</th>\n",
       "      <td>II.\\nThe Pool of Tears\\n\\n\\n“Curiouser and curiouser!” cried Alice (she was so much surprised, ...</td>\n",
       "      <td>pool tear curiouser curiouser cried alice much surprised moment quite forgot speak good english ...</td>\n",
       "    </tr>\n",
       "    <tr>\n",
       "      <th>chapter 3</th>\n",
       "      <td>III.\\nA Caucus-Race and a Long Tale\\n\\n\\nThey were indeed a queer-looking party that assembled ...</td>\n",
       "      <td>caucus race long tale indeed queer looking party assembled bank bird draggled feather animal fur...</td>\n",
       "    </tr>\n",
       "    <tr>\n",
       "      <th>chapter 4</th>\n",
       "      <td>IV.\\nThe Rabbit Sends in a Little Bill\\n\\n\\nIt was the White Rabbit, trotting slowly back again...</td>\n",
       "      <td>rabbit sends little bill white rabbit trotting slowly back looking anxiously went lost something...</td>\n",
       "    </tr>\n",
       "    <tr>\n",
       "      <th>chapter 5</th>\n",
       "      <td>V.\\nAdvice from a Caterpillar\\n\\n\\nThe Caterpillar and Alice looked at each other for some time...</td>\n",
       "      <td>advice caterpillar caterpillar alice looked time silence last caterpillar took hookah mouth addr...</td>\n",
       "    </tr>\n",
       "    <tr>\n",
       "      <th>chapter 6</th>\n",
       "      <td>VI.\\nPig and Pepper\\n\\n\\nFor a minute or two she stood looking at the house, and wondering what...</td>\n",
       "      <td>pig pepper minute two stood looking house wondering next suddenly footman livery came running wo...</td>\n",
       "    </tr>\n",
       "    <tr>\n",
       "      <th>chapter 7</th>\n",
       "      <td>VII.\\nA Mad Tea-Party\\n\\n\\nThere was a table set out under a tree in front of the house, and th...</td>\n",
       "      <td>mad tea party table set tree front house march hare hatter tea dormouse sitting fast asleep two ...</td>\n",
       "    </tr>\n",
       "    <tr>\n",
       "      <th>chapter 8</th>\n",
       "      <td>VIII.\\nThe Queen’s Croquet-Ground\\n\\n\\nA large rose-tree stood near the entrance of the garden:...</td>\n",
       "      <td>queen croquet ground large rose tree stood near entrance garden rose growing white three gardene...</td>\n",
       "    </tr>\n",
       "    <tr>\n",
       "      <th>chapter 9</th>\n",
       "      <td>IX.\\nThe Mock Turtle’s Story\\n\\n\\n“You can’t think how glad I am to see you again, you dear old...</td>\n",
       "      <td>mock turtle story think glad see dear old thing said duchess tucked arm affectionately alice wal...</td>\n",
       "    </tr>\n",
       "    <tr>\n",
       "      <th>chapter 10</th>\n",
       "      <td>X.\\nThe Lobster Quadrille\\n\\n\\nThe Mock Turtle sighed deeply, and drew the back of one flapper ...</td>\n",
       "      <td>lobster quadrille mock turtle sighed deeply drew back one flapper across eye looked alice tried ...</td>\n",
       "    </tr>\n",
       "    <tr>\n",
       "      <th>chapter 11</th>\n",
       "      <td>XI.\\nWho Stole the Tarts?\\n\\n\\nThe King and Queen of Hearts were seated on their throne when th...</td>\n",
       "      <td>stole tart king queen heart seated throne arrived great crowd assembled sort little bird beast w...</td>\n",
       "    </tr>\n",
       "    <tr>\n",
       "      <th>chapter 12</th>\n",
       "      <td>XII.\\nAlice’s Evidence\\n\\n\\n“Here!” cried Alice, quite forgetting in the flurry of the moment h...</td>\n",
       "      <td>alice evidence cried alice quite forgetting flurry moment large grown last minute jumped hurry t...</td>\n",
       "    </tr>\n",
       "  </tbody>\n",
       "</table>\n",
       "</div>"
      ],
      "text/plain": [
       "                                                                                                      orig_text  \\\n",
       "chapter 1    I.\\nDown the Rabbit-Hole\\n\\n\\nAlice was beginning to get very tired of sitting by her sister on...   \n",
       "chapter 2    II.\\nThe Pool of Tears\\n\\n\\n“Curiouser and curiouser!” cried Alice (she was so much surprised, ...   \n",
       "chapter 3    III.\\nA Caucus-Race and a Long Tale\\n\\n\\nThey were indeed a queer-looking party that assembled ...   \n",
       "chapter 4    IV.\\nThe Rabbit Sends in a Little Bill\\n\\n\\nIt was the White Rabbit, trotting slowly back again...   \n",
       "chapter 5    V.\\nAdvice from a Caterpillar\\n\\n\\nThe Caterpillar and Alice looked at each other for some time...   \n",
       "chapter 6    VI.\\nPig and Pepper\\n\\n\\nFor a minute or two she stood looking at the house, and wondering what...   \n",
       "chapter 7    VII.\\nA Mad Tea-Party\\n\\n\\nThere was a table set out under a tree in front of the house, and th...   \n",
       "chapter 8    VIII.\\nThe Queen’s Croquet-Ground\\n\\n\\nA large rose-tree stood near the entrance of the garden:...   \n",
       "chapter 9    IX.\\nThe Mock Turtle’s Story\\n\\n\\n“You can’t think how glad I am to see you again, you dear old...   \n",
       "chapter 10   X.\\nThe Lobster Quadrille\\n\\n\\nThe Mock Turtle sighed deeply, and drew the back of one flapper ...   \n",
       "chapter 11   XI.\\nWho Stole the Tarts?\\n\\n\\nThe King and Queen of Hearts were seated on their throne when th...   \n",
       "chapter 12   XII.\\nAlice’s Evidence\\n\\n\\n“Here!” cried Alice, quite forgetting in the flurry of the moment h...   \n",
       "\n",
       "                                                                                                 processed_text  \n",
       "chapter 1   rabbit hole alice beginning get tired sitting sister bank nothing twice peeped book sister readi...  \n",
       "chapter 2   pool tear curiouser curiouser cried alice much surprised moment quite forgot speak good english ...  \n",
       "chapter 3   caucus race long tale indeed queer looking party assembled bank bird draggled feather animal fur...  \n",
       "chapter 4   rabbit sends little bill white rabbit trotting slowly back looking anxiously went lost something...  \n",
       "chapter 5   advice caterpillar caterpillar alice looked time silence last caterpillar took hookah mouth addr...  \n",
       "chapter 6   pig pepper minute two stood looking house wondering next suddenly footman livery came running wo...  \n",
       "chapter 7   mad tea party table set tree front house march hare hatter tea dormouse sitting fast asleep two ...  \n",
       "chapter 8   queen croquet ground large rose tree stood near entrance garden rose growing white three gardene...  \n",
       "chapter 9   mock turtle story think glad see dear old thing said duchess tucked arm affectionately alice wal...  \n",
       "chapter 10  lobster quadrille mock turtle sighed deeply drew back one flapper across eye looked alice tried ...  \n",
       "chapter 11  stole tart king queen heart seated throne arrived great crowd assembled sort little bird beast w...  \n",
       "chapter 12  alice evidence cried alice quite forgetting flurry moment large grown last minute jumped hurry t...  "
      ]
     },
     "execution_count": 12,
     "metadata": {},
     "output_type": "execute_result"
    }
   ],
   "source": [
    "#put our data to dataframe\n",
    "indexes = [f\"chapter {i+1}\" for i in range(len(chapters))]\n",
    "data = pd.DataFrame(data=chapters, index=indexes, columns=['orig_text'])\n",
    "data['processed_text'] = [clean_and_tokenize_text(chapter[4:]) for chapter in chapters]\n",
    "data"
   ]
  },
  {
   "cell_type": "markdown",
   "id": "private-legislature",
   "metadata": {},
   "source": [
    "### TF-IDF"
   ]
  },
  {
   "cell_type": "code",
   "execution_count": 13,
   "id": "hollywood-injury",
   "metadata": {},
   "outputs": [],
   "source": [
    "from sklearn.feature_extraction.text import TfidfVectorizer"
   ]
  },
  {
   "cell_type": "code",
   "execution_count": 14,
   "id": "miniature-tissue",
   "metadata": {},
   "outputs": [],
   "source": [
    "vectorizer_tfidf = TfidfVectorizer()"
   ]
  },
  {
   "cell_type": "code",
   "execution_count": 15,
   "id": "baking-branch",
   "metadata": {},
   "outputs": [
    {
     "data": {
      "text/plain": [
       "TfidfVectorizer()"
      ]
     },
     "execution_count": 15,
     "metadata": {},
     "output_type": "execute_result"
    }
   ],
   "source": [
    "vectorizer_tfidf.fit(data.processed_text)"
   ]
  },
  {
   "cell_type": "code",
   "execution_count": 16,
   "id": "collectible-compiler",
   "metadata": {},
   "outputs": [],
   "source": [
    "X = vectorizer_tfidf.fit_transform(data.processed_text)"
   ]
  },
  {
   "cell_type": "code",
   "execution_count": 17,
   "id": "toxic-strand",
   "metadata": {},
   "outputs": [],
   "source": [
    "def get_top_words(response, feture_names, top_n=10):\n",
    "    sorted_nzs = np.argsort(response.data)[:-(top_n+1):-1]\n",
    "    return feature_names[response.indices[sorted_nzs]]"
   ]
  },
  {
   "cell_type": "code",
   "execution_count": 18,
   "id": "sustainable-romania",
   "metadata": {},
   "outputs": [],
   "source": [
    "feature_names = np.array(vectorizer_tfidf.get_feature_names())"
   ]
  },
  {
   "cell_type": "code",
   "execution_count": 19,
   "id": "modern-value",
   "metadata": {},
   "outputs": [],
   "source": [
    "#getting top words for each chapter\n",
    "top_words  = [get_top_words(x, feature_names, 11) for x in X]"
   ]
  },
  {
   "cell_type": "code",
   "execution_count": 20,
   "id": "signal-finnish",
   "metadata": {},
   "outputs": [],
   "source": [
    "#removing of word 'Alice'\n",
    "for i,string in enumerate(top_words):\n",
    "    top_words[i] = [x for x in string if x != 'alice'][:11]"
   ]
  },
  {
   "cell_type": "code",
   "execution_count": 21,
   "id": "spare-scheme",
   "metadata": {},
   "outputs": [],
   "source": [
    "data['top_words'] = [', '.join(x) for x in top_words]"
   ]
  },
  {
   "cell_type": "code",
   "execution_count": 22,
   "id": "enabling-restaurant",
   "metadata": {},
   "outputs": [
    {
     "data": {
      "text/html": [
       "<div>\n",
       "<style scoped>\n",
       "    .dataframe tbody tr th:only-of-type {\n",
       "        vertical-align: middle;\n",
       "    }\n",
       "\n",
       "    .dataframe tbody tr th {\n",
       "        vertical-align: top;\n",
       "    }\n",
       "\n",
       "    .dataframe thead th {\n",
       "        text-align: right;\n",
       "    }\n",
       "</style>\n",
       "<table border=\"1\" class=\"dataframe\">\n",
       "  <thead>\n",
       "    <tr style=\"text-align: right;\">\n",
       "      <th></th>\n",
       "      <th>top_words</th>\n",
       "    </tr>\n",
       "  </thead>\n",
       "  <tbody>\n",
       "    <tr>\n",
       "      <th>chapter 1</th>\n",
       "      <td>little, bat, rabbit, door, key, way, eat, think, like, either</td>\n",
       "    </tr>\n",
       "    <tr>\n",
       "      <th>chapter 2</th>\n",
       "      <td>mouse, pool, little, oh, swam, dear, ll, cat, said, tear</td>\n",
       "    </tr>\n",
       "    <tr>\n",
       "      <th>chapter 3</th>\n",
       "      <td>said, mouse, dodo, race, lory, dry, thimble, know, bird, dinah</td>\n",
       "    </tr>\n",
       "    <tr>\n",
       "      <th>chapter 4</th>\n",
       "      <td>bill, little, window, rabbit, puppy, one, fan, bottle, chimney, said</td>\n",
       "    </tr>\n",
       "    <tr>\n",
       "      <th>chapter 5</th>\n",
       "      <td>caterpillar, said, pigeon, serpent, egg, youth, you, size, father, little</td>\n",
       "    </tr>\n",
       "    <tr>\n",
       "      <th>chapter 6</th>\n",
       "      <td>said, footman, cat, baby, mad, duchess, pig, wow, like, cook</td>\n",
       "    </tr>\n",
       "    <tr>\n",
       "      <th>chapter 7</th>\n",
       "      <td>hatter, dormouse, said, march, hare, tea, twinkle, it, time, well</td>\n",
       "    </tr>\n",
       "    <tr>\n",
       "      <th>chapter 8</th>\n",
       "      <td>queen, said, hedgehog, king, gardener, soldier, cat, five, procession, executioner</td>\n",
       "    </tr>\n",
       "    <tr>\n",
       "      <th>chapter 9</th>\n",
       "      <td>turtle, said, mock, gryphon, duchess, moral, queen, went, school, it</td>\n",
       "    </tr>\n",
       "    <tr>\n",
       "      <th>chapter 10</th>\n",
       "      <td>turtle, mock, gryphon, said, lobster, dance, join, beautiful, soup, whiting</td>\n",
       "    </tr>\n",
       "    <tr>\n",
       "      <th>chapter 11</th>\n",
       "      <td>king, hatter, said, court, dormouse, witness, jury, queen, officer, and</td>\n",
       "    </tr>\n",
       "    <tr>\n",
       "      <th>chapter 12</th>\n",
       "      <td>said, king, jury, queen, sister, important, dream, slate, it, would</td>\n",
       "    </tr>\n",
       "  </tbody>\n",
       "</table>\n",
       "</div>"
      ],
      "text/plain": [
       "                                                                                     top_words\n",
       "chapter 1                        little, bat, rabbit, door, key, way, eat, think, like, either\n",
       "chapter 2                             mouse, pool, little, oh, swam, dear, ll, cat, said, tear\n",
       "chapter 3                       said, mouse, dodo, race, lory, dry, thimble, know, bird, dinah\n",
       "chapter 4                 bill, little, window, rabbit, puppy, one, fan, bottle, chimney, said\n",
       "chapter 5            caterpillar, said, pigeon, serpent, egg, youth, you, size, father, little\n",
       "chapter 6                         said, footman, cat, baby, mad, duchess, pig, wow, like, cook\n",
       "chapter 7                    hatter, dormouse, said, march, hare, tea, twinkle, it, time, well\n",
       "chapter 8   queen, said, hedgehog, king, gardener, soldier, cat, five, procession, executioner\n",
       "chapter 9                 turtle, said, mock, gryphon, duchess, moral, queen, went, school, it\n",
       "chapter 10         turtle, mock, gryphon, said, lobster, dance, join, beautiful, soup, whiting\n",
       "chapter 11             king, hatter, said, court, dormouse, witness, jury, queen, officer, and\n",
       "chapter 12                 said, king, jury, queen, sister, important, dream, slate, it, would"
      ]
     },
     "execution_count": 22,
     "metadata": {},
     "output_type": "execute_result"
    }
   ],
   "source": [
    "data.top_words.to_frame()"
   ]
  },
  {
   "cell_type": "markdown",
   "id": "touched-proposal",
   "metadata": {},
   "source": [
    "4.\tFind the Top 10 most used verbs in sentences with Alice. What does Alice do most often?"
   ]
  },
  {
   "cell_type": "code",
   "execution_count": 23,
   "id": "surface-daily",
   "metadata": {},
   "outputs": [],
   "source": [
    "data_copy = data.copy()"
   ]
  },
  {
   "cell_type": "code",
   "execution_count": 24,
   "id": "fourth-pavilion",
   "metadata": {},
   "outputs": [
    {
     "name": "stderr",
     "output_type": "stream",
     "text": [
      "[nltk_data] Downloading package punkt to\n",
      "[nltk_data]     C:\\Users\\User\\AppData\\Roaming\\nltk_data...\n",
      "[nltk_data]   Package punkt is already up-to-date!\n"
     ]
    },
    {
     "data": {
      "text/plain": [
       "True"
      ]
     },
     "execution_count": 24,
     "metadata": {},
     "output_type": "execute_result"
    }
   ],
   "source": [
    "nltk.download('punkt')"
   ]
  },
  {
   "cell_type": "code",
   "execution_count": 25,
   "id": "lasting-cheat",
   "metadata": {},
   "outputs": [],
   "source": [
    "#devision of our text into sentenses\n",
    "data['orig_sent'] = data.orig_text.apply(lambda x:nltk.tokenize.sent_tokenize(x.replace('\\n', ' '))[1:])\n",
    "data['proc_sent'] = data.orig_sent.apply(lambda x: [clean_and_tokenize_text(item) for item in x])"
   ]
  },
  {
   "cell_type": "code",
   "execution_count": 26,
   "id": "wireless-envelope",
   "metadata": {},
   "outputs": [
    {
     "data": {
      "text/html": [
       "<div>\n",
       "<style scoped>\n",
       "    .dataframe tbody tr th:only-of-type {\n",
       "        vertical-align: middle;\n",
       "    }\n",
       "\n",
       "    .dataframe tbody tr th {\n",
       "        vertical-align: top;\n",
       "    }\n",
       "\n",
       "    .dataframe thead th {\n",
       "        text-align: right;\n",
       "    }\n",
       "</style>\n",
       "<table border=\"1\" class=\"dataframe\">\n",
       "  <thead>\n",
       "    <tr style=\"text-align: right;\">\n",
       "      <th></th>\n",
       "      <th>orig_text</th>\n",
       "      <th>processed_text</th>\n",
       "      <th>top_words</th>\n",
       "      <th>orig_sent</th>\n",
       "      <th>proc_sent</th>\n",
       "    </tr>\n",
       "  </thead>\n",
       "  <tbody>\n",
       "    <tr>\n",
       "      <th>chapter 1</th>\n",
       "      <td>I.\\nDown the Rabbit-Hole\\n\\n\\nAlice was beginning to get very tired of sitting by her sister on...</td>\n",
       "      <td>rabbit hole alice beginning get tired sitting sister bank nothing twice peeped book sister readi...</td>\n",
       "      <td>little, bat, rabbit, door, key, way, eat, think, like, either</td>\n",
       "      <td>[Down the Rabbit-Hole   Alice was beginning to get very tired of sitting by her sister on the ba...</td>\n",
       "      <td>[rabbit hole alice beginning get tired sitting sister bank nothing twice peeped book sister read...</td>\n",
       "    </tr>\n",
       "    <tr>\n",
       "      <th>chapter 2</th>\n",
       "      <td>II.\\nThe Pool of Tears\\n\\n\\n“Curiouser and curiouser!” cried Alice (she was so much surprised, ...</td>\n",
       "      <td>pool tear curiouser curiouser cried alice much surprised moment quite forgot speak good english ...</td>\n",
       "      <td>mouse, pool, little, oh, swam, dear, ll, cat, said, tear</td>\n",
       "      <td>[The Pool of Tears   “Curiouser and curiouser!” cried Alice (she was so much surprised, that for...</td>\n",
       "      <td>[pool tear curiouser curiouser cried alice much surprised moment quite forgot speak good english...</td>\n",
       "    </tr>\n",
       "    <tr>\n",
       "      <th>chapter 3</th>\n",
       "      <td>III.\\nA Caucus-Race and a Long Tale\\n\\n\\nThey were indeed a queer-looking party that assembled ...</td>\n",
       "      <td>caucus race long tale indeed queer looking party assembled bank bird draggled feather animal fur...</td>\n",
       "      <td>said, mouse, dodo, race, lory, dry, thimble, know, bird, dinah</td>\n",
       "      <td>[A Caucus-Race and a Long Tale   They were indeed a queer-looking party that assembled on the ba...</td>\n",
       "      <td>[caucus race long tale indeed queer looking party assembled bank bird draggled feather animal fu...</td>\n",
       "    </tr>\n",
       "    <tr>\n",
       "      <th>chapter 4</th>\n",
       "      <td>IV.\\nThe Rabbit Sends in a Little Bill\\n\\n\\nIt was the White Rabbit, trotting slowly back again...</td>\n",
       "      <td>rabbit sends little bill white rabbit trotting slowly back looking anxiously went lost something...</td>\n",
       "      <td>bill, little, window, rabbit, puppy, one, fan, bottle, chimney, said</td>\n",
       "      <td>[The Rabbit Sends in a Little Bill   It was the White Rabbit, trotting slowly back again, and lo...</td>\n",
       "      <td>[rabbit sends little bill white rabbit trotting slowly back looking anxiously went lost somethin...</td>\n",
       "    </tr>\n",
       "    <tr>\n",
       "      <th>chapter 5</th>\n",
       "      <td>V.\\nAdvice from a Caterpillar\\n\\n\\nThe Caterpillar and Alice looked at each other for some time...</td>\n",
       "      <td>advice caterpillar caterpillar alice looked time silence last caterpillar took hookah mouth addr...</td>\n",
       "      <td>caterpillar, said, pigeon, serpent, egg, youth, you, size, father, little</td>\n",
       "      <td>[“Who are _you?_” said the Caterpillar., This was not an encouraging opening for a conversation....</td>\n",
       "      <td>[said caterpillar, encouraging opening conversation, alice replied rather shyly hardly know sir ...</td>\n",
       "    </tr>\n",
       "  </tbody>\n",
       "</table>\n",
       "</div>"
      ],
      "text/plain": [
       "                                                                                                     orig_text  \\\n",
       "chapter 1   I.\\nDown the Rabbit-Hole\\n\\n\\nAlice was beginning to get very tired of sitting by her sister on...   \n",
       "chapter 2   II.\\nThe Pool of Tears\\n\\n\\n“Curiouser and curiouser!” cried Alice (she was so much surprised, ...   \n",
       "chapter 3   III.\\nA Caucus-Race and a Long Tale\\n\\n\\nThey were indeed a queer-looking party that assembled ...   \n",
       "chapter 4   IV.\\nThe Rabbit Sends in a Little Bill\\n\\n\\nIt was the White Rabbit, trotting slowly back again...   \n",
       "chapter 5   V.\\nAdvice from a Caterpillar\\n\\n\\nThe Caterpillar and Alice looked at each other for some time...   \n",
       "\n",
       "                                                                                                processed_text  \\\n",
       "chapter 1  rabbit hole alice beginning get tired sitting sister bank nothing twice peeped book sister readi...   \n",
       "chapter 2  pool tear curiouser curiouser cried alice much surprised moment quite forgot speak good english ...   \n",
       "chapter 3  caucus race long tale indeed queer looking party assembled bank bird draggled feather animal fur...   \n",
       "chapter 4  rabbit sends little bill white rabbit trotting slowly back looking anxiously went lost something...   \n",
       "chapter 5  advice caterpillar caterpillar alice looked time silence last caterpillar took hookah mouth addr...   \n",
       "\n",
       "                                                                           top_words  \\\n",
       "chapter 1              little, bat, rabbit, door, key, way, eat, think, like, either   \n",
       "chapter 2                   mouse, pool, little, oh, swam, dear, ll, cat, said, tear   \n",
       "chapter 3             said, mouse, dodo, race, lory, dry, thimble, know, bird, dinah   \n",
       "chapter 4       bill, little, window, rabbit, puppy, one, fan, bottle, chimney, said   \n",
       "chapter 5  caterpillar, said, pigeon, serpent, egg, youth, you, size, father, little   \n",
       "\n",
       "                                                                                                     orig_sent  \\\n",
       "chapter 1  [Down the Rabbit-Hole   Alice was beginning to get very tired of sitting by her sister on the ba...   \n",
       "chapter 2  [The Pool of Tears   “Curiouser and curiouser!” cried Alice (she was so much surprised, that for...   \n",
       "chapter 3  [A Caucus-Race and a Long Tale   They were indeed a queer-looking party that assembled on the ba...   \n",
       "chapter 4  [The Rabbit Sends in a Little Bill   It was the White Rabbit, trotting slowly back again, and lo...   \n",
       "chapter 5  [“Who are _you?_” said the Caterpillar., This was not an encouraging opening for a conversation....   \n",
       "\n",
       "                                                                                                     proc_sent  \n",
       "chapter 1  [rabbit hole alice beginning get tired sitting sister bank nothing twice peeped book sister read...  \n",
       "chapter 2  [pool tear curiouser curiouser cried alice much surprised moment quite forgot speak good english...  \n",
       "chapter 3  [caucus race long tale indeed queer looking party assembled bank bird draggled feather animal fu...  \n",
       "chapter 4  [rabbit sends little bill white rabbit trotting slowly back looking anxiously went lost somethin...  \n",
       "chapter 5  [said caterpillar, encouraging opening conversation, alice replied rather shyly hardly know sir ...  "
      ]
     },
     "execution_count": 26,
     "metadata": {},
     "output_type": "execute_result"
    }
   ],
   "source": [
    "data.head()"
   ]
  },
  {
   "cell_type": "code",
   "execution_count": 27,
   "id": "hybrid-helping",
   "metadata": {},
   "outputs": [],
   "source": [
    "#deleting all sentences without 'Alice'\n",
    "data['proc_sent'] = data.proc_sent.apply(lambda x: ' '.join([item for item in x if 'alice' in item]))"
   ]
  },
  {
   "cell_type": "code",
   "execution_count": 28,
   "id": "controversial-queens",
   "metadata": {},
   "outputs": [
    {
     "data": {
      "text/html": [
       "<div>\n",
       "<style scoped>\n",
       "    .dataframe tbody tr th:only-of-type {\n",
       "        vertical-align: middle;\n",
       "    }\n",
       "\n",
       "    .dataframe tbody tr th {\n",
       "        vertical-align: top;\n",
       "    }\n",
       "\n",
       "    .dataframe thead th {\n",
       "        text-align: right;\n",
       "    }\n",
       "</style>\n",
       "<table border=\"1\" class=\"dataframe\">\n",
       "  <thead>\n",
       "    <tr style=\"text-align: right;\">\n",
       "      <th></th>\n",
       "      <th>orig_text</th>\n",
       "      <th>processed_text</th>\n",
       "      <th>top_words</th>\n",
       "      <th>orig_sent</th>\n",
       "      <th>proc_sent</th>\n",
       "    </tr>\n",
       "  </thead>\n",
       "  <tbody>\n",
       "    <tr>\n",
       "      <th>chapter 1</th>\n",
       "      <td>I.\\nDown the Rabbit-Hole\\n\\n\\nAlice was beginning to get very tired of sitting by her sister on...</td>\n",
       "      <td>rabbit hole alice beginning get tired sitting sister bank nothing twice peeped book sister readi...</td>\n",
       "      <td>little, bat, rabbit, door, key, way, eat, think, like, either</td>\n",
       "      <td>[Down the Rabbit-Hole   Alice was beginning to get very tired of sitting by her sister on the ba...</td>\n",
       "      <td>rabbit hole alice beginning get tired sitting sister bank nothing twice peeped book sister readi...</td>\n",
       "    </tr>\n",
       "    <tr>\n",
       "      <th>chapter 2</th>\n",
       "      <td>II.\\nThe Pool of Tears\\n\\n\\n“Curiouser and curiouser!” cried Alice (she was so much surprised, ...</td>\n",
       "      <td>pool tear curiouser curiouser cried alice much surprised moment quite forgot speak good english ...</td>\n",
       "      <td>mouse, pool, little, oh, swam, dear, ll, cat, said, tear</td>\n",
       "      <td>[The Pool of Tears   “Curiouser and curiouser!” cried Alice (she was so much surprised, that for...</td>\n",
       "      <td>pool tear curiouser curiouser cried alice much surprised moment quite forgot speak good english ...</td>\n",
       "    </tr>\n",
       "    <tr>\n",
       "      <th>chapter 3</th>\n",
       "      <td>III.\\nA Caucus-Race and a Long Tale\\n\\n\\nThey were indeed a queer-looking party that assembled ...</td>\n",
       "      <td>caucus race long tale indeed queer looking party assembled bank bird draggled feather animal fur...</td>\n",
       "      <td>said, mouse, dodo, race, lory, dry, thimble, know, bird, dinah</td>\n",
       "      <td>[A Caucus-Race and a Long Tale   They were indeed a queer-looking party that assembled on the ba...</td>\n",
       "      <td>first question course get dry consultation minute seemed quite natural alice find talking famili...</td>\n",
       "    </tr>\n",
       "    <tr>\n",
       "      <th>chapter 4</th>\n",
       "      <td>IV.\\nThe Rabbit Sends in a Little Bill\\n\\n\\nIt was the White Rabbit, trotting slowly back again...</td>\n",
       "      <td>rabbit sends little bill white rabbit trotting slowly back looking anxiously went lost something...</td>\n",
       "      <td>bill, little, window, rabbit, puppy, one, fan, bottle, chimney, said</td>\n",
       "      <td>[The Rabbit Sends in a Little Bill   It was the White Rabbit, trotting slowly back again, and lo...</td>\n",
       "      <td>dropped wonder alice guessed moment looking fan pair white kid glove good naturedly began huntin...</td>\n",
       "    </tr>\n",
       "    <tr>\n",
       "      <th>chapter 5</th>\n",
       "      <td>V.\\nAdvice from a Caterpillar\\n\\n\\nThe Caterpillar and Alice looked at each other for some time...</td>\n",
       "      <td>advice caterpillar caterpillar alice looked time silence last caterpillar took hookah mouth addr...</td>\n",
       "      <td>caterpillar, said, pigeon, serpent, egg, youth, you, size, father, little</td>\n",
       "      <td>[“Who are _you?_” said the Caterpillar., This was not an encouraging opening for a conversation....</td>\n",
       "      <td>alice replied rather shyly hardly know sir present least know got morning think must changed sev...</td>\n",
       "    </tr>\n",
       "  </tbody>\n",
       "</table>\n",
       "</div>"
      ],
      "text/plain": [
       "                                                                                                     orig_text  \\\n",
       "chapter 1   I.\\nDown the Rabbit-Hole\\n\\n\\nAlice was beginning to get very tired of sitting by her sister on...   \n",
       "chapter 2   II.\\nThe Pool of Tears\\n\\n\\n“Curiouser and curiouser!” cried Alice (she was so much surprised, ...   \n",
       "chapter 3   III.\\nA Caucus-Race and a Long Tale\\n\\n\\nThey were indeed a queer-looking party that assembled ...   \n",
       "chapter 4   IV.\\nThe Rabbit Sends in a Little Bill\\n\\n\\nIt was the White Rabbit, trotting slowly back again...   \n",
       "chapter 5   V.\\nAdvice from a Caterpillar\\n\\n\\nThe Caterpillar and Alice looked at each other for some time...   \n",
       "\n",
       "                                                                                                processed_text  \\\n",
       "chapter 1  rabbit hole alice beginning get tired sitting sister bank nothing twice peeped book sister readi...   \n",
       "chapter 2  pool tear curiouser curiouser cried alice much surprised moment quite forgot speak good english ...   \n",
       "chapter 3  caucus race long tale indeed queer looking party assembled bank bird draggled feather animal fur...   \n",
       "chapter 4  rabbit sends little bill white rabbit trotting slowly back looking anxiously went lost something...   \n",
       "chapter 5  advice caterpillar caterpillar alice looked time silence last caterpillar took hookah mouth addr...   \n",
       "\n",
       "                                                                           top_words  \\\n",
       "chapter 1              little, bat, rabbit, door, key, way, eat, think, like, either   \n",
       "chapter 2                   mouse, pool, little, oh, swam, dear, ll, cat, said, tear   \n",
       "chapter 3             said, mouse, dodo, race, lory, dry, thimble, know, bird, dinah   \n",
       "chapter 4       bill, little, window, rabbit, puppy, one, fan, bottle, chimney, said   \n",
       "chapter 5  caterpillar, said, pigeon, serpent, egg, youth, you, size, father, little   \n",
       "\n",
       "                                                                                                     orig_sent  \\\n",
       "chapter 1  [Down the Rabbit-Hole   Alice was beginning to get very tired of sitting by her sister on the ba...   \n",
       "chapter 2  [The Pool of Tears   “Curiouser and curiouser!” cried Alice (she was so much surprised, that for...   \n",
       "chapter 3  [A Caucus-Race and a Long Tale   They were indeed a queer-looking party that assembled on the ba...   \n",
       "chapter 4  [The Rabbit Sends in a Little Bill   It was the White Rabbit, trotting slowly back again, and lo...   \n",
       "chapter 5  [“Who are _you?_” said the Caterpillar., This was not an encouraging opening for a conversation....   \n",
       "\n",
       "                                                                                                     proc_sent  \n",
       "chapter 1  rabbit hole alice beginning get tired sitting sister bank nothing twice peeped book sister readi...  \n",
       "chapter 2  pool tear curiouser curiouser cried alice much surprised moment quite forgot speak good english ...  \n",
       "chapter 3  first question course get dry consultation minute seemed quite natural alice find talking famili...  \n",
       "chapter 4  dropped wonder alice guessed moment looking fan pair white kid glove good naturedly began huntin...  \n",
       "chapter 5  alice replied rather shyly hardly know sir present least know got morning think must changed sev...  "
      ]
     },
     "execution_count": 28,
     "metadata": {},
     "output_type": "execute_result"
    }
   ],
   "source": [
    "data.head()"
   ]
  },
  {
   "cell_type": "code",
   "execution_count": 29,
   "id": "authorized-academy",
   "metadata": {},
   "outputs": [
    {
     "name": "stderr",
     "output_type": "stream",
     "text": [
      "[nltk_data] Downloading package averaged_perceptron_tagger to\n",
      "[nltk_data]     C:\\Users\\User\\AppData\\Roaming\\nltk_data...\n",
      "[nltk_data]   Package averaged_perceptron_tagger is already up-to-\n",
      "[nltk_data]       date!\n"
     ]
    },
    {
     "data": {
      "text/plain": [
       "True"
      ]
     },
     "execution_count": 29,
     "metadata": {},
     "output_type": "execute_result"
    }
   ],
   "source": [
    "nltk.download('averaged_perceptron_tagger')"
   ]
  },
  {
   "cell_type": "code",
   "execution_count": 30,
   "id": "tracked-semester",
   "metadata": {},
   "outputs": [],
   "source": [
    "#function to vind verbs in nltk.pos_tag\n",
    "is_verb = lambda pos: pos[:2] == 'VB'"
   ]
  },
  {
   "cell_type": "code",
   "execution_count": 31,
   "id": "finnish-howard",
   "metadata": {},
   "outputs": [],
   "source": [
    "# extracting all verbs from sentenses\n",
    "data['proc_sent'] = data.proc_sent.apply(lambda x: ' '.join([word for (word, pos) in nltk.pos_tag(x.split()) if is_verb(pos)]))"
   ]
  },
  {
   "cell_type": "code",
   "execution_count": 32,
   "id": "aboriginal-pathology",
   "metadata": {},
   "outputs": [
    {
     "data": {
      "text/html": [
       "<div>\n",
       "<style scoped>\n",
       "    .dataframe tbody tr th:only-of-type {\n",
       "        vertical-align: middle;\n",
       "    }\n",
       "\n",
       "    .dataframe tbody tr th {\n",
       "        vertical-align: top;\n",
       "    }\n",
       "\n",
       "    .dataframe thead th {\n",
       "        text-align: right;\n",
       "    }\n",
       "</style>\n",
       "<table border=\"1\" class=\"dataframe\">\n",
       "  <thead>\n",
       "    <tr style=\"text-align: right;\">\n",
       "      <th></th>\n",
       "      <th>orig_text</th>\n",
       "      <th>processed_text</th>\n",
       "      <th>top_words</th>\n",
       "      <th>orig_sent</th>\n",
       "      <th>proc_sent</th>\n",
       "    </tr>\n",
       "  </thead>\n",
       "  <tbody>\n",
       "    <tr>\n",
       "      <th>chapter 1</th>\n",
       "      <td>I.\\nDown the Rabbit-Hole\\n\\n\\nAlice was beginning to get very tired of sitting by her sister on...</td>\n",
       "      <td>rabbit hole alice beginning get tired sitting sister bank nothing twice peeped book sister readi...</td>\n",
       "      <td>little, bat, rabbit, door, key, way, eat, think, like, either</td>\n",
       "      <td>[Down the Rabbit-Hole   Alice was beginning to get very tired of sitting by her sister on the ba...</td>\n",
       "      <td>beginning get sitting peeped reading considering hot made making worth getting picking ran think...</td>\n",
       "    </tr>\n",
       "    <tr>\n",
       "      <th>chapter 2</th>\n",
       "      <td>II.\\nThe Pool of Tears\\n\\n\\n“Curiouser and curiouser!” cried Alice (she was so much surprised, ...</td>\n",
       "      <td>pool tear curiouser curiouser cried alice much surprised moment quite forgot speak good english ...</td>\n",
       "      <td>mouse, pool, little, oh, swam, dear, ll, cat, said, tear</td>\n",
       "      <td>[The Pool of Tears   “Curiouser and curiouser!” cried Alice (she was so much surprised, that for...</td>\n",
       "      <td>cried manage walk want go ashamed said say kept waiting felt help came began started dropped glo...</td>\n",
       "    </tr>\n",
       "    <tr>\n",
       "      <th>chapter 3</th>\n",
       "      <td>III.\\nA Caucus-Race and a Long Tale\\n\\n\\nThey were indeed a queer-looking party that assembled ...</td>\n",
       "      <td>caucus race long tale indeed queer looking party assembled bank bird draggled feather animal fur...</td>\n",
       "      <td>said, mouse, dodo, race, lory, dry, thimble, know, bird, dinah</td>\n",
       "      <td>[A Caucus-Race and a Long Tale   They were indeed a queer-looking party that assembled on the ba...</td>\n",
       "      <td>get seemed find talking known say know allow knowing refused said kept fixed catch getting conti...</td>\n",
       "    </tr>\n",
       "    <tr>\n",
       "      <th>chapter 4</th>\n",
       "      <td>IV.\\nThe Rabbit Sends in a Little Bill\\n\\n\\nIt was the White Rabbit, trotting slowly back again...</td>\n",
       "      <td>rabbit sends little bill white rabbit trotting slowly back looking anxiously went lost something...</td>\n",
       "      <td>bill, little, window, rabbit, puppy, one, fan, bottle, chimney, said</td>\n",
       "      <td>[The Rabbit Sends in a Little Bill   It was the White Rabbit, trotting slowly back again, and lo...</td>\n",
       "      <td>dropped guessed looking glove began hunting seen seemed changed vanished went hunting called fri...</td>\n",
       "    </tr>\n",
       "    <tr>\n",
       "      <th>chapter 5</th>\n",
       "      <td>V.\\nAdvice from a Caterpillar\\n\\n\\nThe Caterpillar and Alice looked at each other for some time...</td>\n",
       "      <td>advice caterpillar caterpillar alice looked time silence last caterpillar took hookah mouth addr...</td>\n",
       "      <td>caterpillar, said, pigeon, serpent, egg, youth, you, size, father, little</td>\n",
       "      <td>[“Who are _you?_” said the Caterpillar., This was not an encouraging opening for a conversation....</td>\n",
       "      <td>replied know got changed said explain said said put replied begin confusing said found said know...</td>\n",
       "    </tr>\n",
       "  </tbody>\n",
       "</table>\n",
       "</div>"
      ],
      "text/plain": [
       "                                                                                                     orig_text  \\\n",
       "chapter 1   I.\\nDown the Rabbit-Hole\\n\\n\\nAlice was beginning to get very tired of sitting by her sister on...   \n",
       "chapter 2   II.\\nThe Pool of Tears\\n\\n\\n“Curiouser and curiouser!” cried Alice (she was so much surprised, ...   \n",
       "chapter 3   III.\\nA Caucus-Race and a Long Tale\\n\\n\\nThey were indeed a queer-looking party that assembled ...   \n",
       "chapter 4   IV.\\nThe Rabbit Sends in a Little Bill\\n\\n\\nIt was the White Rabbit, trotting slowly back again...   \n",
       "chapter 5   V.\\nAdvice from a Caterpillar\\n\\n\\nThe Caterpillar and Alice looked at each other for some time...   \n",
       "\n",
       "                                                                                                processed_text  \\\n",
       "chapter 1  rabbit hole alice beginning get tired sitting sister bank nothing twice peeped book sister readi...   \n",
       "chapter 2  pool tear curiouser curiouser cried alice much surprised moment quite forgot speak good english ...   \n",
       "chapter 3  caucus race long tale indeed queer looking party assembled bank bird draggled feather animal fur...   \n",
       "chapter 4  rabbit sends little bill white rabbit trotting slowly back looking anxiously went lost something...   \n",
       "chapter 5  advice caterpillar caterpillar alice looked time silence last caterpillar took hookah mouth addr...   \n",
       "\n",
       "                                                                           top_words  \\\n",
       "chapter 1              little, bat, rabbit, door, key, way, eat, think, like, either   \n",
       "chapter 2                   mouse, pool, little, oh, swam, dear, ll, cat, said, tear   \n",
       "chapter 3             said, mouse, dodo, race, lory, dry, thimble, know, bird, dinah   \n",
       "chapter 4       bill, little, window, rabbit, puppy, one, fan, bottle, chimney, said   \n",
       "chapter 5  caterpillar, said, pigeon, serpent, egg, youth, you, size, father, little   \n",
       "\n",
       "                                                                                                     orig_sent  \\\n",
       "chapter 1  [Down the Rabbit-Hole   Alice was beginning to get very tired of sitting by her sister on the ba...   \n",
       "chapter 2  [The Pool of Tears   “Curiouser and curiouser!” cried Alice (she was so much surprised, that for...   \n",
       "chapter 3  [A Caucus-Race and a Long Tale   They were indeed a queer-looking party that assembled on the ba...   \n",
       "chapter 4  [The Rabbit Sends in a Little Bill   It was the White Rabbit, trotting slowly back again, and lo...   \n",
       "chapter 5  [“Who are _you?_” said the Caterpillar., This was not an encouraging opening for a conversation....   \n",
       "\n",
       "                                                                                                     proc_sent  \n",
       "chapter 1  beginning get sitting peeped reading considering hot made making worth getting picking ran think...  \n",
       "chapter 2  cried manage walk want go ashamed said say kept waiting felt help came began started dropped glo...  \n",
       "chapter 3  get seemed find talking known say know allow knowing refused said kept fixed catch getting conti...  \n",
       "chapter 4  dropped guessed looking glove began hunting seen seemed changed vanished went hunting called fri...  \n",
       "chapter 5  replied know got changed said explain said said put replied begin confusing said found said know...  "
      ]
     },
     "execution_count": 32,
     "metadata": {},
     "output_type": "execute_result"
    }
   ],
   "source": [
    "data.head()"
   ]
  },
  {
   "cell_type": "code",
   "execution_count": 33,
   "id": "regulated-rogers",
   "metadata": {},
   "outputs": [],
   "source": [
    "#finging of top  10 verbs using TF-IDF\n",
    "X = vectorizer_tfidf.transform(data.proc_sent)\n",
    "top_verbs  = [get_top_words(x, feature_names, 10) for x in X]\n",
    "data['top_verbs'] = [', '.join(x) for x in top_verbs]"
   ]
  },
  {
   "cell_type": "code",
   "execution_count": 34,
   "id": "vocational-stick",
   "metadata": {},
   "outputs": [
    {
     "data": {
      "text/html": [
       "<div>\n",
       "<style scoped>\n",
       "    .dataframe tbody tr th:only-of-type {\n",
       "        vertical-align: middle;\n",
       "    }\n",
       "\n",
       "    .dataframe tbody tr th {\n",
       "        vertical-align: top;\n",
       "    }\n",
       "\n",
       "    .dataframe thead th {\n",
       "        text-align: right;\n",
       "    }\n",
       "</style>\n",
       "<table border=\"1\" class=\"dataframe\">\n",
       "  <thead>\n",
       "    <tr style=\"text-align: right;\">\n",
       "      <th></th>\n",
       "      <th>top_words</th>\n",
       "      <th>top_verbs</th>\n",
       "    </tr>\n",
       "  </thead>\n",
       "  <tbody>\n",
       "    <tr>\n",
       "      <th>chapter 1</th>\n",
       "      <td>little, bat, rabbit, door, key, way, eat, think, like, either</td>\n",
       "      <td>said, going, shutting, say, get, see, went, think, finding, considering</td>\n",
       "    </tr>\n",
       "    <tr>\n",
       "      <th>chapter 2</th>\n",
       "      <td>mouse, pool, little, oh, swam, dear, ll, cat, said, tear</td>\n",
       "      <td>cried, said, go, went, glove, come, thought, kept, skurried, swimming</td>\n",
       "    </tr>\n",
       "    <tr>\n",
       "      <th>chapter 3</th>\n",
       "      <td>said, mouse, dodo, race, lory, dry, thimble, know, bird, dinah</td>\n",
       "      <td>said, turning, say, looking, offended, got, kept, known, paused, addressing</td>\n",
       "    </tr>\n",
       "    <tr>\n",
       "      <th>chapter 4</th>\n",
       "      <td>bill, little, window, rabbit, puppy, one, fan, bottle, chimney, said</td>\n",
       "      <td>made, said, thought, coaxing, began, glove, hunting, came, got, appeared</td>\n",
       "    </tr>\n",
       "    <tr>\n",
       "      <th>chapter 5</th>\n",
       "      <td>caterpillar, said, pigeon, serpent, egg, youth, you, size, father, little</td>\n",
       "      <td>said, replied, changed, know, tasted, found, looking, think, feel, say</td>\n",
       "    </tr>\n",
       "    <tr>\n",
       "      <th>chapter 6</th>\n",
       "      <td>said, footman, cat, baby, mad, duchess, pig, wow, like, cook</td>\n",
       "      <td>said, grunted, went, know, grinned, vanished, take, gone, opened, thought</td>\n",
       "    </tr>\n",
       "    <tr>\n",
       "      <th>chapter 7</th>\n",
       "      <td>hatter, dormouse, said, march, hare, tea, twinkle, it, time, well</td>\n",
       "      <td>said, say, know, replied, took, learning, take, sighed, looking, went</td>\n",
       "    </tr>\n",
       "    <tr>\n",
       "      <th>chapter 8</th>\n",
       "      <td>queen, said, hedgehog, king, gardener, soldier, cat, five, procession, executioner</td>\n",
       "      <td>said, looked, went, appeared, smiled, lie, tucked, going, bowed, came</td>\n",
       "    </tr>\n",
       "    <tr>\n",
       "      <th>chapter 9</th>\n",
       "      <td>turtle, said, mock, gryphon, duchess, moral, queen, went, school, it</td>\n",
       "      <td>said, say, ordered, went, replied, love, left, ventured, go, exclaimed</td>\n",
       "    </tr>\n",
       "    <tr>\n",
       "      <th>chapter 10</th>\n",
       "      <td>turtle, mock, gryphon, said, lobster, dance, join, beautiful, soup, whiting</td>\n",
       "      <td>said, whiting, passed, dancing, checked, follows, replied, thank, began, seen</td>\n",
       "    </tr>\n",
       "    <tr>\n",
       "      <th>chapter 11</th>\n",
       "      <td>king, hatter, said, court, dormouse, witness, jury, queen, officer, and</td>\n",
       "      <td>said, thought, whispered, got, growing, see, began, make, done, pas</td>\n",
       "    </tr>\n",
       "    <tr>\n",
       "      <th>chapter 12</th>\n",
       "      <td>said, king, jury, queen, sister, important, dream, slate, it, would</td>\n",
       "      <td>said, grown, know, gave, upsetting, secret, setting, listened, tipped, sprawling</td>\n",
       "    </tr>\n",
       "  </tbody>\n",
       "</table>\n",
       "</div>"
      ],
      "text/plain": [
       "                                                                                     top_words  \\\n",
       "chapter 1                        little, bat, rabbit, door, key, way, eat, think, like, either   \n",
       "chapter 2                             mouse, pool, little, oh, swam, dear, ll, cat, said, tear   \n",
       "chapter 3                       said, mouse, dodo, race, lory, dry, thimble, know, bird, dinah   \n",
       "chapter 4                 bill, little, window, rabbit, puppy, one, fan, bottle, chimney, said   \n",
       "chapter 5            caterpillar, said, pigeon, serpent, egg, youth, you, size, father, little   \n",
       "chapter 6                         said, footman, cat, baby, mad, duchess, pig, wow, like, cook   \n",
       "chapter 7                    hatter, dormouse, said, march, hare, tea, twinkle, it, time, well   \n",
       "chapter 8   queen, said, hedgehog, king, gardener, soldier, cat, five, procession, executioner   \n",
       "chapter 9                 turtle, said, mock, gryphon, duchess, moral, queen, went, school, it   \n",
       "chapter 10         turtle, mock, gryphon, said, lobster, dance, join, beautiful, soup, whiting   \n",
       "chapter 11             king, hatter, said, court, dormouse, witness, jury, queen, officer, and   \n",
       "chapter 12                 said, king, jury, queen, sister, important, dream, slate, it, would   \n",
       "\n",
       "                                                                                   top_verbs  \n",
       "chapter 1            said, going, shutting, say, get, see, went, think, finding, considering  \n",
       "chapter 2              cried, said, go, went, glove, come, thought, kept, skurried, swimming  \n",
       "chapter 3        said, turning, say, looking, offended, got, kept, known, paused, addressing  \n",
       "chapter 4           made, said, thought, coaxing, began, glove, hunting, came, got, appeared  \n",
       "chapter 5             said, replied, changed, know, tasted, found, looking, think, feel, say  \n",
       "chapter 6          said, grunted, went, know, grinned, vanished, take, gone, opened, thought  \n",
       "chapter 7              said, say, know, replied, took, learning, take, sighed, looking, went  \n",
       "chapter 8              said, looked, went, appeared, smiled, lie, tucked, going, bowed, came  \n",
       "chapter 9             said, say, ordered, went, replied, love, left, ventured, go, exclaimed  \n",
       "chapter 10     said, whiting, passed, dancing, checked, follows, replied, thank, began, seen  \n",
       "chapter 11               said, thought, whispered, got, growing, see, began, make, done, pas  \n",
       "chapter 12  said, grown, know, gave, upsetting, secret, setting, listened, tipped, sprawling  "
      ]
     },
     "execution_count": 34,
     "metadata": {},
     "output_type": "execute_result"
    }
   ],
   "source": [
    "#results\n",
    "data[['top_words', 'top_verbs']]"
   ]
  },
  {
   "cell_type": "code",
   "execution_count": null,
   "id": "personal-edwards",
   "metadata": {},
   "outputs": [],
   "source": []
  }
 ],
 "metadata": {
  "kernelspec": {
   "display_name": "Python 3",
   "language": "python",
   "name": "python3"
  },
  "language_info": {
   "codemirror_mode": {
    "name": "ipython",
    "version": 3
   },
   "file_extension": ".py",
   "mimetype": "text/x-python",
   "name": "python",
   "nbconvert_exporter": "python",
   "pygments_lexer": "ipython3",
   "version": "3.7.6"
  }
 },
 "nbformat": 4,
 "nbformat_minor": 5
}
